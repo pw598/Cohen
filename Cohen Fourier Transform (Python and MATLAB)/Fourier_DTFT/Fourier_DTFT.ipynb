{
 "cells": [
  {
   "cell_type": "markdown",
   "metadata": {
    "colab_type": "text",
    "id": "Fgr8ws_cOnkk"
   },
   "source": [
    "# Code for Section 3: The discrete Fourier transform\n",
    "## This code is for learning the Fourier transform.\n",
    "\n",
    "### mikexcohen.com"
   ]
  },
  {
   "cell_type": "code",
   "execution_count": null,
   "metadata": {
    "colab": {},
    "colab_type": "code",
    "id": "KqVxhqF-Onkl"
   },
   "outputs": [],
   "source": [
    "import numpy as np\n",
    "import math\n",
    "import matplotlib.pyplot as plt\n",
    "import scipy.fftpack\n",
    "import random\n",
    "from mpl_toolkits.mplot3d import Axes3D"
   ]
  },
  {
   "cell_type": "markdown",
   "metadata": {
    "colab_type": "text",
    "id": "nI5gu31EOnkq"
   },
   "source": [
    "\n",
    "---\n",
    "# VIDEO: How it works\n",
    "---\n"
   ]
  },
  {
   "cell_type": "code",
   "execution_count": null,
   "metadata": {
    "colab": {},
    "colab_type": "code",
    "id": "imMyrztJOnkq"
   },
   "outputs": [],
   "source": [
    "## The DTFT in loop-form\n",
    "\n",
    "# create the signal\n",
    "srate  = 1000 # hz\n",
    "time   = np.arange(0.,2.,1/srate) # time vector in seconds\n",
    "pnts   = len(time) # number of time points\n",
    "signal = 2.5 * np.sin( 2*np.pi*4*time ) + 1.5 * np.sin( 2*np.pi*6.5*time )\n",
    "\n",
    "\n",
    "# prepare the Fourier transform\n",
    "fourTime = np.array(range(pnts))/pnts\n",
    "fCoefs   = np.zeros((len(signal)),dtype=complex)\n",
    "\n",
    "for fi in range(pnts):\n",
    "    \n",
    "    # create complex sine wave\n",
    "    csw = np.exp( -1j*2*np.pi*fi*fourTime )\n",
    "    \n",
    "    # compute dot product between sine wave and signal\n",
    "    # these are called the Fourier coefficients\n",
    "    fCoefs[fi] = np.sum( np.multiply(signal,csw) ) / pnts\n",
    "\n",
    "\n",
    "# extract amplitudes\n",
    "ampls = 2*np.abs(fCoefs)\n",
    "\n",
    "# compute frequencies vector\n",
    "hz = np.linspace(0,srate/2,int(math.floor(pnts/2.)+1))\n",
    "\n",
    "plt.stem(hz,ampls[range(len(hz))])\n",
    "plt.xlabel('Frequency (Hz)'), plt.ylabel('Amplitude (a.u.)')\n",
    "plt.xlim(0,10)\n",
    "plt.show()\n"
   ]
  },
  {
   "cell_type": "code",
   "execution_count": null,
   "metadata": {},
   "outputs": [],
   "source": [
    "## plot two Fourier coefficients\n",
    "\n",
    "coefs2plot = [0,0]\n",
    "coefs2plot[0] = np.argmin(np.abs(hz-4))\n",
    "coefs2plot[1] = np.argmin(np.abs(hz-4.5))\n",
    "\n",
    "# extract magnitude and angle\n",
    "mag = np.abs(fCoefs[coefs2plot])\n",
    "phs = np.angle(fCoefs[coefs2plot])\n",
    "\n",
    "\n",
    "# show the coefficients in the complex plane\n",
    "plt.plot( np.real(fCoefs[coefs2plot]) , np.imag(fCoefs[coefs2plot]) ,'o',\n",
    "         linewidth=2,markersize=10,markerfacecolor='r')\n",
    "\n",
    "# make plot look nicer\n",
    "plt.plot([-2,2],[0,0],'k',linewidth=2)\n",
    "plt.plot([0,0],[-2,2],'k',linewidth=2)\n",
    "axislims = np.max(mag)*1.1\n",
    "plt.grid()\n",
    "plt.axis('square')\n",
    "plt.xlim([-axislims, axislims])\n",
    "plt.ylim([-axislims, axislims])\n",
    "plt.xlabel('Real axis')\n",
    "plt.ylabel('Imaginary axis')\n",
    "plt.title('Complex plane')\n",
    "plt.show()"
   ]
  },
  {
   "cell_type": "markdown",
   "metadata": {
    "colab_type": "text",
    "id": "4jFbSa9IOnkt"
   },
   "source": [
    "\n",
    "---\n",
    "# VIDEO: Converting indices to frequencies\n",
    "---\n"
   ]
  },
  {
   "cell_type": "code",
   "execution_count": null,
   "metadata": {
    "colab": {},
    "colab_type": "code",
    "id": "M4LeZicROnku"
   },
   "outputs": [],
   "source": [
    "\n",
    "pnts     = 16 # number of time points\n",
    "fourTime = np.array(range(pnts))/pnts\n",
    "\n",
    "for fi in range(pnts):\n",
    "    # create complex sine wave\n",
    "    csw = np.exp( -1j*2*np.pi*fi*fourTime )\n",
    "    \n",
    "    # and plot it\n",
    "    \n",
    "    loc = np.unravel_index(fi,[4, 4],'F')\n",
    "    plt.subplot2grid((4,4),(loc[1],loc[0]))\n",
    "    plt.plot(fourTime,np.real(csw))\n",
    "    plt.plot(fourTime,np.imag(csw))\n",
    "\n",
    "plt.show()"
   ]
  },
  {
   "cell_type": "markdown",
   "metadata": {
    "colab_type": "text",
    "id": "YbHHS1XMOnkx"
   },
   "source": [
    "# VIDEO: Converting indices to frequencies, part 2\n",
    "\n",
    "---\n",
    "\n"
   ]
  },
  {
   "cell_type": "code",
   "execution_count": null,
   "metadata": {
    "colab": {},
    "colab_type": "code",
    "id": "oJoRWpIpjxda"
   },
   "outputs": [],
   "source": [
    "## code from the slides\n",
    "\n",
    "srate = 1000\n",
    "npnts = 100001\n",
    "\n",
    "# frequencies vector\n",
    "if npnts%2==0:\n",
    "  topfreq = srate/2\n",
    "else:\n",
    "  topfreq = srate/2 * (npnts-1)/npnts\n",
    "\n",
    "hz1 = np.linspace(0,srate/2,np.floor(npnts/2+1).astype(int))\n",
    "hz2 = np.linspace(0,topfreq,np.floor(npnts/2+1).astype(int))\n",
    "\n",
    "# some arbitary frequency to show\n",
    "n = 16\n",
    "print('%.9f\\n%.9f'%(hz1[n],hz2[n]))\n"
   ]
  },
  {
   "cell_type": "markdown",
   "metadata": {
    "colab_type": "text",
    "id": "lky8G7f0rxic"
   },
   "source": [
    "# VIDEO: Shortcut: Converting indices to frequencies\n"
   ]
  },
  {
   "cell_type": "code",
   "execution_count": null,
   "metadata": {
    "colab": {},
    "colab_type": "code",
    "id": "5ew7zk4DOnkx"
   },
   "outputs": [],
   "source": [
    "## Case 1: ODD number of data points, N is correct\n",
    "\n",
    "# create the signal\n",
    "srate = 1000\n",
    "time  = np.arange(0,srate+1)/srate\n",
    "npnts = len(time)\n",
    "\n",
    "# Notice: A simple 15-Hz sine wave!\n",
    "signal = np.sin(15*2*np.pi*time)\n",
    "\n",
    "# its amplitude spectrum\n",
    "signalX = 2*np.abs(scipy.fftpack.fft(signal)) / len(signal)\n",
    "\n",
    "# frequencies vectors\n",
    "hz1 = np.linspace(0,srate,npnts+1)\n",
    "hz2 = np.linspace(0,srate,npnts)\n",
    "\n",
    "\n",
    "# plot it\n",
    "fig = plt.subplots(1,figsize=(10,5))\n",
    "plt.plot(hz1[:npnts],signalX,'bo',label='N+1')\n",
    "plt.plot(hz2,signalX,'rs',label='N')\n",
    "plt.xlim([14.9,15.1])\n",
    "plt.ylim([.99,1.01])\n",
    "plt.legend()\n",
    "plt.xlabel('Frequency (Hz)')\n",
    "plt.title(str(len(time)) + ' points long')\n",
    "plt.ylabel('Amplitude')\n",
    "plt.show()\n"
   ]
  },
  {
   "cell_type": "code",
   "execution_count": null,
   "metadata": {
    "colab": {},
    "colab_type": "code",
    "id": "KHtr_QLTOnk0"
   },
   "outputs": [],
   "source": [
    "## Case 2: EVEN number of data points, N+1 is correct\n",
    "\n",
    "# create the signal\n",
    "srate = 1000\n",
    "time  = np.arange(0,srate)/srate\n",
    "npnts = len(time)\n",
    "\n",
    "# Notice: A simple 15-Hz sine wave!\n",
    "signal = np.sin(15*2*np.pi*time)\n",
    "\n",
    "# its amplitude spectrum\n",
    "signalX = 2*np.abs(scipy.fftpack.fft(signal)) / len(signal)\n",
    "\n",
    "# frequencies vectors\n",
    "hz1 = np.linspace(0,srate,npnts+1)\n",
    "hz2 = np.linspace(0,srate,npnts)\n",
    "\n",
    "\n",
    "# plot it\n",
    "fig = plt.subplots(1,figsize=(10,5))\n",
    "plt.plot(hz1[:npnts],signalX,'bo',label='N+1')\n",
    "plt.plot(hz2,signalX,'rs',label='N')\n",
    "plt.xlim([14.9,15.1])\n",
    "plt.ylim([.99,1.01])\n",
    "plt.legend()\n",
    "plt.xlabel('Frequency (Hz)')\n",
    "plt.title(str(len(time)) + ' points long')\n",
    "plt.ylabel('Amplitude')\n",
    "plt.show()\n"
   ]
  },
  {
   "cell_type": "code",
   "execution_count": null,
   "metadata": {
    "colab": {},
    "colab_type": "code",
    "id": "AUNHglcIOnk3"
   },
   "outputs": [],
   "source": [
    "## Case 3: longer signal\n",
    "\n",
    "# create the signal\n",
    "srate = 1000\n",
    "time  = np.arange(0,5*srate)/srate\n",
    "npnts = len(time)\n",
    "\n",
    "# Notice: A simple 15-Hz sine wave!\n",
    "signal = np.sin(15*2*np.pi*time)\n",
    "\n",
    "# its amplitude spectrum\n",
    "signalX = 2*np.abs(scipy.fftpack.fft(signal)) / len(signal)\n",
    "\n",
    "# frequencies vectors\n",
    "hz1 = np.linspace(0,srate,npnts+1)\n",
    "hz2 = np.linspace(0,srate,npnts)\n",
    "\n",
    "\n",
    "# plot it\n",
    "fig = plt.subplots(1,figsize=(10,5))\n",
    "plt.plot(hz1[:npnts],signalX,'bo',label='N+1')\n",
    "plt.plot(hz2,signalX,'rs',label='N')\n",
    "plt.xlim([14.99,15.01])\n",
    "plt.ylim([.99,1.01])\n",
    "plt.legend()\n",
    "plt.xlabel('Frequency (Hz)')\n",
    "plt.title(str(len(time)) + ' points long')\n",
    "plt.ylabel('Amplitude')\n",
    "plt.show()\n"
   ]
  },
  {
   "cell_type": "markdown",
   "metadata": {
    "colab_type": "text",
    "id": "kegdBya_Onk9"
   },
   "source": [
    "# VIDEO: Normalized time vector"
   ]
  },
  {
   "cell_type": "code",
   "execution_count": null,
   "metadata": {
    "colab": {},
    "colab_type": "code",
    "id": "hGtG2k-wOnk-"
   },
   "outputs": [],
   "source": [
    "# create the signal\n",
    "srate  = 1000 # hz\n",
    "time   = np.arange(0,2*srate)/srate # time vector in seconds\n",
    "pnts   = len(time) # number of time points\n",
    "signal = 2.5 * np.sin( 2*np.pi*4*time ) + \\\n",
    "         1.5 * np.sin( 2*np.pi*6.5*time )\n",
    "\n",
    "\n",
    "# show the original signal\n",
    "plt.plot(time,signal,'k')\n",
    "plt.xlabel('Time (s)')\n",
    "plt.ylabel('Amplitude')\n",
    "plt.title('Time domain')\n",
    "plt.show()"
   ]
  },
  {
   "cell_type": "code",
   "execution_count": null,
   "metadata": {
    "colab": {},
    "colab_type": "code",
    "id": "mHz_gGxJOnlA"
   },
   "outputs": [],
   "source": [
    "# prepare the Fourier transform\n",
    "fourTime = np.arange(0,pnts)/pnts\n",
    "fCoefs   = np.zeros(len(signal),dtype=complex)\n",
    "\n",
    "for fi in range(pnts):\n",
    "    \n",
    "    # create complex sine wave\n",
    "    csw = np.exp( -1j*2*np.pi*fi*fourTime )\n",
    "    \n",
    "    # compute dot product between sine wave and signal\n",
    "    # these are called the Fourier coefficients\n",
    "    fCoefs[fi] = sum( signal*csw ) / pnts\n",
    "\n",
    "# extract amplitudes\n",
    "ampls = 2*abs(fCoefs)"
   ]
  },
  {
   "cell_type": "code",
   "execution_count": null,
   "metadata": {
    "colab": {},
    "colab_type": "code",
    "id": "FWXH9wLtOnlC"
   },
   "outputs": [],
   "source": [
    "# compute frequencies vector\n",
    "hz = np.linspace(0,srate/2,int(np.floor(pnts/2)+1))\n",
    "\n",
    "# plot amplitude\n",
    "plt.stem(hz,ampls[:len(hz)],'ks-')\n",
    "\n",
    "# make plot look a bit nicer\n",
    "plt.xlim([0,10])\n",
    "plt.ylim([-.01,3])\n",
    "plt.xlabel('Frequency (Hz)')\n",
    "plt.ylabel('Amplitude (a.u.)')\n",
    "plt.title('Amplitude spectrum')\n",
    "plt.show()\n",
    "\n",
    "\n",
    "# plot angles\n",
    "plt.stem(hz,np.angle(fCoefs[:len(hz)]),'ks-')\n",
    "\n",
    "# make plot look a bit nicer\n",
    "plt.xlim([0,10])\n",
    "plt.ylim([-np.pi,np.pi])\n",
    "plt.xlabel('Frequency (Hz)')\n",
    "plt.ylabel('Phase (rad.)')\n",
    "plt.title('Phase spectrum')\n",
    "plt.show()\n",
    "\n",
    "\n",
    "# finally, plot reconstructed time series on top of original time series\n",
    "reconTS = np.real(scipy.fftpack.ifft( fCoefs ))*pnts\n",
    "\n",
    "plt.plot(time,signal,'k',label='Original')\n",
    "plt.plot(time[::3],reconTS[::3],'r.',label='Reconstructed')\n",
    "plt.legend()\n",
    "plt.show()"
   ]
  },
  {
   "cell_type": "markdown",
   "metadata": {
    "colab_type": "text",
    "id": "J6wy9IWXOnlF"
   },
   "source": [
    "\n",
    "---\n",
    "# VIDEO: Scaling Fourier coefficients\n",
    "---\n"
   ]
  },
  {
   "cell_type": "code",
   "execution_count": null,
   "metadata": {
    "colab": {},
    "colab_type": "code",
    "id": "fp5zU5m8OnlH"
   },
   "outputs": [],
   "source": [
    "## incorrect amplitude units without normalizations\n",
    "\n",
    "# create the signal\n",
    "srate  = 1000 # hz\n",
    "time   = np.arange(0.,1.5,1/srate)  # time vector in seconds\n",
    "pnts   = len(time)   # number of time points\n",
    "signal = 2.5 * np.sin( 2*np.pi*4*time )\n",
    "\n",
    "\n",
    "# prepare the Fourier transform\n",
    "fourTime = np.array(range(pnts))/pnts\n",
    "fCoefs   = np.zeros(len(signal),dtype=complex)\n",
    "\n",
    "for fi in range(pnts):\n",
    "    # create complex sine wave and compute dot product with signal\n",
    "    csw = np.exp( -1j*2*np.pi*fi*fourTime )\n",
    "    fCoefs[fi] = np.sum( np.multiply(signal,csw) )\n",
    "\n",
    "\n",
    "# extract amplitudes\n",
    "ampls = np.abs(fCoefs);\n",
    "\n",
    "# compute frequencies vector\n",
    "hz = np.linspace(0,srate/2,num=int(math.floor(pnts/2.)+1))\n",
    "\n",
    "plt.stem(hz,ampls[range(len(hz))])\n",
    "plt.xlabel('Frequency (Hz)'), plt.ylabel('Amplitude (a.u.)')\n",
    "plt.xlim(0,10)\n",
    "plt.show()"
   ]
  },
  {
   "cell_type": "markdown",
   "metadata": {
    "colab_type": "text",
    "id": "Ltn6fL4jOnlK"
   },
   "source": [
    "\n",
    "---\n",
    "# VIDEO: Phase (this is the code used to generate the plots in the video)\n",
    "---\n"
   ]
  },
  {
   "cell_type": "code",
   "execution_count": null,
   "metadata": {
    "colab": {},
    "colab_type": "code",
    "id": "jsKQIMfOOnlK"
   },
   "outputs": [],
   "source": [
    "## same amplitude, different phase\n",
    "\n",
    "# simulation parameters\n",
    "srate = 1000\n",
    "time  = np.arange(0.,2.,1/srate)\n",
    "npnts = len(time)\n",
    "\n",
    "# generate signal\n",
    "signal1 = 2.5*np.sin(2*np.pi*10*time +   0  ) # different phase values\n",
    "signal2 = 2.5*np.sin(2*np.pi*10*time + np.pi/2 )\n",
    "\n",
    "\n",
    "# prepare the Fourier transform\n",
    "fourTime = np.array(range(npnts)) / npnts\n",
    "signal1X = np.zeros((len(signal1)),dtype=complex)\n",
    "signal2X = np.zeros((len(signal2)),dtype=complex)\n",
    "\n",
    "for fi in range(npnts):\n",
    "    \n",
    "    # create complex sine wave\n",
    "    csw = np.exp( -1j*2*np.pi*fi*fourTime )\n",
    "    \n",
    "    # compute dot product between sine wave and signal\n",
    "    # these are called the Fourier coefficients\n",
    "    signal1X[fi] = np.sum( np.multiply(signal1,csw) ) / npnts\n",
    "    signal2X[fi] = np.sum( np.multiply(signal2,csw) ) / npnts\n",
    "\n",
    "\n",
    "# frequencies vector\n",
    "hz = np.linspace(0,srate/2,num=int(math.floor(npnts/2.)+1))\n",
    "\n",
    "# extract correctly-normalized amplitude\n",
    "signal1Amp = np.abs(signal1X[range(len(hz))]/npnts)\n",
    "signal1Amp[1:] = 2*signal1Amp[1:]\n",
    "\n",
    "signal2Amp = np.abs(signal2X[range(len(hz))]/npnts)\n",
    "signal2Amp[1:] = 2*signal2Amp[1:]\n",
    "\n",
    "\n",
    "# now extract phases\n",
    "signal1phase = np.angle(signal1X[0:len(hz)])\n",
    "signal2phase = np.angle(signal2X[0:len(hz)])\n",
    "\n",
    "\n",
    "# plot time-domain signals\n",
    "plt.subplot2grid((3,2),(0,0))\n",
    "plt.plot(time,signal1)\n",
    "\n",
    "plt.subplot2grid((3,2),(0,1))\n",
    "plt.plot(time,signal2,'k')\n",
    "\n",
    "plt.subplot2grid((3,2),(1,0))\n",
    "plt.stem(hz,signal1Amp)\n",
    "plt.xlim([0,20])\n",
    "\n",
    "plt.subplot2grid((3,2),(1,1))\n",
    "plt.stem(hz,signal2Amp)\n",
    "plt.xlim([0,20])\n",
    "\n",
    "plt.subplot2grid((3,2),(2,0))\n",
    "plt.stem(hz,signal1phase)\n",
    "plt.xlim([0,20])\n",
    "\n",
    "plt.subplot2grid((3,2),(2,1))\n",
    "plt.stem(hz,signal2phase)\n",
    "plt.xlim([0,20])\n",
    "\n",
    "plt.tight_layout()\n",
    "plt.show()"
   ]
  },
  {
   "cell_type": "markdown",
   "metadata": {
    "colab_type": "text",
    "id": "lUUpQSJjOnlM"
   },
   "source": [
    "\n",
    "---\n",
    "# VIDEO: Averaging Fourier coefficients\n",
    "---\n"
   ]
  },
  {
   "cell_type": "code",
   "execution_count": null,
   "metadata": {
    "colab": {},
    "colab_type": "code",
    "id": "m10PuzabOnlN"
   },
   "outputs": [],
   "source": [
    "# simulation parameters\n",
    "ntrials = 100\n",
    "srate   = 200 # Hz\n",
    "time    = np.arange(0,1,1/srate)\n",
    "pnts    = len(time)\n",
    "\n",
    "\n",
    "# create dataset\n",
    "data = np.zeros((ntrials,pnts))\n",
    "for triali in range(ntrials):\n",
    "    data[triali,:] = np.sin(2*np.pi*20*time + 2*np.pi*np.random.rand())\n",
    "\n",
    "# plot the data\n",
    "for i in range(ntrials):\n",
    "    plt.plot(time,data[i,:])\n",
    "plt.plot(time,np.mean(data,axis=0),'k',linewidth=3)\n",
    "plt.xlabel('Time (sec.)')\n",
    "plt.ylabel('Amplitude')\n",
    "plt.title('Time domain')\n",
    "# plt.xlim([0,.1])\n",
    "\n",
    "plt.show()\n"
   ]
  },
  {
   "cell_type": "code",
   "execution_count": null,
   "metadata": {
    "colab": {},
    "colab_type": "code",
    "id": "qGkn7DaVOnlP"
   },
   "outputs": [],
   "source": [
    "# get Fourier coefficients\n",
    "dataX = scipy.fftpack.fft(data,axis=1) / pnts\n",
    "hz = np.linspace(0,srate/2,int(np.floor(pnts/2)+1))\n",
    "\n",
    "# averaging option 1: complex Fourier coefficients, then magnitude\n",
    "ave1 = 2*np.abs( np.mean(dataX,axis=0) )\n",
    "\n",
    "# averaging option 2: magnitude, then complex Fourier coefficients\n",
    "ave2 = np.mean( 2*np.abs(dataX),axis=0 )\n",
    "\n",
    "# plot both amplitude spectra\n",
    "plt.stem(hz,ave1[0:len(hz)],'ks-',label='Average coefficients',use_line_collection=True)\n",
    "plt.stem(hz+.2,ave2[0:len(hz)],'ro-',label='Average amplitude',use_line_collection=True)\n",
    "plt.xlim([10,30])\n",
    "plt.xlabel('Frequency (Hz)')\n",
    "plt.ylabel('Amplitude')\n",
    "plt.title('Frequency domain')\n",
    "plt.legend()\n",
    "plt.show()"
   ]
  },
  {
   "cell_type": "markdown",
   "metadata": {
    "colab_type": "text",
    "id": "81mWpcirOnlR"
   },
   "source": [
    "\n",
    "---\n",
    "# VIDEO: The DC coefficient\n",
    "---\n"
   ]
  },
  {
   "cell_type": "code",
   "execution_count": null,
   "metadata": {
    "colab": {},
    "colab_type": "code",
    "id": "Tv839OHNOnlS"
   },
   "outputs": [],
   "source": [
    "## incorrect DC reconstruction without careful normalization\n",
    "\n",
    "# create the signal\n",
    "srate  = 1000 # hz\n",
    "time   = np.arange(0.,2.,1/srate) # time vector in seconds\n",
    "pnts   = len(time) # number of time points\n",
    "signal =  1.5 + 2.5*np.sin( 2*np.pi*4*time )\n",
    "\n",
    "\n",
    "# prepare the Fourier transform\n",
    "fourTime = np.array(range(pnts))/pnts\n",
    "fCoefs   = np.zeros(len(signal),dtype=complex)\n",
    "\n",
    "for fi in range(pnts):\n",
    "    # create complex sine wave and compute dot product with signal\n",
    "    csw = np.exp( -1j*2*np.pi*fi*fourTime )\n",
    "    fCoefs[fi] = np.sum( np.multiply(signal,csw) )\n",
    "\n",
    "\n",
    "# extract amplitudes\n",
    "ampls = 2*np.abs(fCoefs/pnts);\n",
    "\n",
    "# compute frequencies vector\n",
    "hz = np.linspace(0,srate/2,num=int(math.floor(pnts/2.)+1))\n",
    "\n",
    "plt.stem(hz,ampls[0:len(hz)])\n",
    "plt.xlim(-.1,10)\n",
    "plt.xlabel('Frequency (Hz)'), plt.ylabel('Amplitude (a.u.)')\n",
    "plt.show()\n"
   ]
  },
  {
   "cell_type": "markdown",
   "metadata": {
    "colab_type": "text",
    "id": "99VtKTqnOnlU"
   },
   "source": [
    "\n",
    "---\n",
    "# VIDEO: Amplitude spectrum vs. power spectrum\n",
    "---\n"
   ]
  },
  {
   "cell_type": "code",
   "execution_count": null,
   "metadata": {
    "colab": {},
    "colab_type": "code",
    "id": "ilWz4I3kOnlV"
   },
   "outputs": [],
   "source": [
    "# simulation parameters\n",
    "srate = 1000\n",
    "time  = np.arange(0,.85,1/srate)\n",
    "npnts = len(time)\n",
    "\n",
    "# generate signal\n",
    "signal = 2.5*np.sin(2*np.pi*10*time)\n",
    "\n",
    "# Fourier transform and frequencies\n",
    "signalX = scipy.fftpack.fft(signal) / npnts\n",
    "hz = np.linspace(0,srate/2,int(np.floor(len(time)/2)+1))\n",
    "\n",
    "\n",
    "# extract correctly-normalized amplitude\n",
    "signalAmp = np.abs(signalX[0:len(hz)])\n",
    "signalAmp[1:] = 2*signalAmp[1:]\n",
    "\n",
    "# and power\n",
    "signalPow = signalAmp**2\n",
    "\n",
    "\n",
    "plt.figure(figsize=(12,3))\n",
    "\n",
    "# plot time-domain signal\n",
    "plt.subplot2grid((1,3),(0,0))\n",
    "plt.plot(time,signal)\n",
    "plt.xlabel('Time (ms)')\n",
    "plt.ylabel('Amplitude')\n",
    "plt.title('Time domain')\n",
    "\n",
    "\n",
    "# plot frequency domain spectra\n",
    "plt.subplot2grid((1,3),(0,1))\n",
    "plt.plot(hz,signalAmp,'ks-',label='Amplitude')\n",
    "plt.plot(hz,signalPow,'rs-',label='Power')\n",
    "\n",
    "plt.xlim([0,20])\n",
    "plt.legend()\n",
    "plt.xlabel('Frequency (Hz)')\n",
    "plt.ylabel('Amplitude or power')\n",
    "plt.title('Frequency domain')\n",
    "\n",
    "# plot dB power\n",
    "plt.subplot2grid((1,3),(0,2))\n",
    "plt.plot(hz,10*np.log10(signalPow),'ks-')\n",
    "plt.xlim([0,20])\n",
    "plt.xlabel('Frequency (Hz)')\n",
    "plt.ylabel('Decibel power')\n",
    "\n",
    "plt.show()"
   ]
  }
 ],
 "metadata": {
  "colab": {
   "collapsed_sections": [],
   "name": "Fourier_DTFT.ipynb",
   "provenance": []
  },
  "kernelspec": {
   "display_name": "Python 3 (ipykernel)",
   "language": "python",
   "name": "python3"
  },
  "language_info": {
   "codemirror_mode": {
    "name": "ipython",
    "version": 3
   },
   "file_extension": ".py",
   "mimetype": "text/x-python",
   "name": "python",
   "nbconvert_exporter": "python",
   "pygments_lexer": "ipython3",
   "version": "3.9.7"
  }
 },
 "nbformat": 4,
 "nbformat_minor": 1
}
