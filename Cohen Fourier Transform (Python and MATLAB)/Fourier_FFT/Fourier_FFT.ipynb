{
 "cells": [
  {
   "cell_type": "markdown",
   "metadata": {},
   "source": [
    "# Code for Section 5: The fast Fourier transform\n",
    "## This code is for learning the Fourier transform.\n",
    "\n",
    "### mikexcohen.com"
   ]
  },
  {
   "cell_type": "code",
   "execution_count": null,
   "metadata": {},
   "outputs": [],
   "source": [
    "import numpy as np\n",
    "import math\n",
    "import matplotlib.pyplot as plt\n",
    "import random\n",
    "import timeit\n",
    "import scipy.fftpack\n",
    "from mpl_toolkits.mplot3d import Axes3D"
   ]
  },
  {
   "cell_type": "markdown",
   "metadata": {},
   "source": [
    "\n",
    "---\n",
    "# VIDEO: How the FFT works, speed tests\n",
    "---\n"
   ]
  },
  {
   "cell_type": "code",
   "execution_count": null,
   "metadata": {},
   "outputs": [],
   "source": [
    "# create the signal\n",
    "pnts   = 1000\n",
    "signal = np.random.randn(pnts)\n",
    "\n",
    "\n",
    "# start the timer for \"slow\" Fourier transform\n",
    "tic = timeit.default_timer()\n",
    "\n",
    "# prepare the Fourier transform\n",
    "fourTime = np.array(range(0,pnts))/pnts\n",
    "fCoefs   = np.zeros(len(signal),dtype=complex)\n",
    "\n",
    "for fi in range(0,pnts):\n",
    "    csw = np.exp( -1j*2*np.pi*fi*fourTime )\n",
    "    fCoefs[fi] = np.sum( np.multiply(signal,csw) )\n",
    "\n",
    "\n",
    "# end timer for slow Fourier transform\n",
    "toc = timeit.default_timer()\n",
    "t1 = toc-tic\n",
    "\n",
    "\n",
    "# time the fast Fourier transform\n",
    "tic = timeit.default_timer()\n",
    "fCoefsF = scipy.fftpack.fft(signal)\n",
    "toc = timeit.default_timer()\n",
    "t2 = toc-tic\n",
    "\n",
    "# and plot\n",
    "plt.bar([1,2],[t1,t2])\n",
    "plt.title('Computation times')\n",
    "plt.ylabel('Time (sec.)')\n",
    "plt.xticks([1,2], ['loop','FFT'])\n",
    "plt.show()\n"
   ]
  },
  {
   "cell_type": "code",
   "execution_count": null,
   "metadata": {},
   "outputs": [],
   "source": [
    "## fft still need normalizations\n",
    "\n",
    "srate = 1000\n",
    "time  = np.arange(0,2,1/srate)\n",
    "npnts = len(time)\n",
    "\n",
    "# signal\n",
    "signal = 2*np.sin(2*np.pi*6*time)\n",
    "\n",
    "# Fourier spectrum\n",
    "signalX = scipy.fftpack.fft(signal)\n",
    "hz = np.linspace(0,srate,npnts)\n",
    "\n",
    "# amplitude\n",
    "ampl = np.abs(signalX[0:len(hz)])\n",
    "\n",
    "plt.stem(hz,ampl)\n",
    "plt.xlim(0,10)\n",
    "plt.xlabel('Frequency (Hz)')\n",
    "plt.ylabel('Amplitude (a.u.)')\n",
    "plt.show()"
   ]
  },
  {
   "cell_type": "markdown",
   "metadata": {},
   "source": [
    "\n",
    "---\n",
    "# VIDEO: The fast inverse Fourier transform\n",
    "---\n"
   ]
  },
  {
   "cell_type": "code",
   "execution_count": null,
   "metadata": {},
   "outputs": [],
   "source": [
    "# set parameters\n",
    "srate = 1000\n",
    "time  = np.arange(0,3,1/srate)\n",
    "pnts  = len(time)\n",
    "\n",
    "# create multispectral signal\n",
    "signal  = np.multiply( (1+np.sin(2*np.pi*12*time)) , np.cos(np.sin(2*np.pi*25*time)+time) )\n",
    "\n",
    "# fft\n",
    "signalX = scipy.fftpack.fft(signal)\n",
    "\n",
    "# reconstruction via ifft\n",
    "reconSig = scipy.fftpack.ifft(signalX)\n",
    "\n",
    "plt.plot(time,signal,label='Original')\n",
    "plt.plot(time,np.real(reconSig),label='Reconstructed')\n",
    "plt.xlabel('Time (sec.)')\n",
    "plt.ylabel('amplitude (a.u.)')\n",
    "plt.show()"
   ]
  },
  {
   "cell_type": "markdown",
   "metadata": {},
   "source": [
    "\n",
    "---\n",
    "# VIDEO: The perfection of the Fourier transform\n",
    "---\n"
   ]
  },
  {
   "cell_type": "code",
   "execution_count": null,
   "metadata": {},
   "outputs": [],
   "source": [
    "# number of time points\n",
    "pnts = 1000 \n",
    "\n",
    "# prepare the Fourier transform\n",
    "fourTime = np.array(range(0,pnts))/pnts\n",
    "F        = np.zeros((pnts,pnts),dtype=complex)\n",
    "\n",
    "for fi in range(0,pnts):\n",
    "    # create complex sine wave\n",
    "    csw = np.exp( -1j*2*np.pi*fi*fourTime )\n",
    "    \n",
    "    # put csw into column of matrix F\n",
    "    F[:,fi] = csw\n",
    "\n",
    "# compute inverse of F (and normalize by N)\n",
    "Finv = np.linalg.inv(F)*pnts\n",
    "\n",
    "# plot one sine wave\n",
    "plt.plot(fourTime,np.real(F[:,5]),label='real')\n",
    "plt.plot(fourTime,np.imag(F[:,5]),label='imag')\n",
    "plt.title('One column of matrix F')\n",
    "plt.legend()\n",
    "plt.show()\n",
    "\n",
    "plt.plot(fourTime,np.real(Finv[:,5]),label='real')\n",
    "plt.plot(fourTime,np.imag(Finv[:,5]),label='imag')\n",
    "plt.title('One column of matrix F$^{-1}$')\n",
    "plt.legend()\n",
    "plt.show()"
   ]
  },
  {
   "cell_type": "markdown",
   "metadata": {},
   "source": [
    "# VIDEO: Using the fft on matrices"
   ]
  },
  {
   "cell_type": "code",
   "execution_count": null,
   "metadata": {},
   "outputs": [],
   "source": [
    "# using the matlib library\n",
    "import numpy.matlib\n",
    "\n",
    "# generate multivariate dataset\n",
    "\n",
    "srate = 400\n",
    "time  = np.arange(0,srate*2)/srate\n",
    "npnts = len(time)\n",
    "nreps = 50\n",
    "\n",
    "# dataset is repeated sine waves\n",
    "data = np.matlib.repmat( np.sin(2*np.pi*10*time), nreps,1 )"
   ]
  },
  {
   "cell_type": "code",
   "execution_count": null,
   "metadata": {},
   "outputs": [],
   "source": [
    "# FFT of data along each dimension\n",
    "\n",
    "dataX1 = scipy.fftpack.fft(data,axis=0) / npnts\n",
    "dataX2 = scipy.fftpack.fft(data,axis=1) / npnts\n",
    "hz = np.linspace(0,srate/2,int(np.floor(npnts/2)+1))\n",
    "\n",
    "# check sizes\n",
    "print(np.shape(dataX1))\n",
    "print(np.shape(dataX2))"
   ]
  },
  {
   "cell_type": "code",
   "execution_count": null,
   "metadata": {},
   "outputs": [],
   "source": [
    "# show data and spectra!\n",
    "plt.imshow(data)\n",
    "plt.xlabel('Time')\n",
    "plt.ylabel('Channel')\n",
    "plt.title('Time-domain signal')\n",
    "plt.show()\n",
    "\n",
    "plt.stem(hz,np.mean( 2*abs(dataX1[:,:len(hz)]),axis=0),'k')\n",
    "plt.xlabel('Frequency (??)')\n",
    "plt.ylabel('Amplitude')\n",
    "plt.title('FFT over channels')\n",
    "plt.show()\n",
    "\n",
    "plt.stem(hz,np.mean( 2*abs(dataX2[:,:len(hz)]),axis=0),'k')\n",
    "plt.xlabel('Frequency (Hz)')\n",
    "plt.ylabel('Amplitude')\n",
    "plt.title('FFT over time')\n",
    "plt.show()"
   ]
  }
 ],
 "metadata": {
  "kernelspec": {
   "display_name": "Python 3",
   "language": "python",
   "name": "python3"
  },
  "language_info": {
   "codemirror_mode": {
    "name": "ipython",
    "version": 3
   },
   "file_extension": ".py",
   "mimetype": "text/x-python",
   "name": "python",
   "nbconvert_exporter": "python",
   "pygments_lexer": "ipython3",
   "version": "3.7.4"
  }
 },
 "nbformat": 4,
 "nbformat_minor": 2
}
